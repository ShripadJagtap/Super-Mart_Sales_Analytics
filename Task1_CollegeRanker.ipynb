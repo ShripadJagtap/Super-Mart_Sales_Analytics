{
  "nbformat": 4,
  "nbformat_minor": 0,
  "metadata": {
    "colab": {
      "name": "Task1_CollegeRanker.ipynb",
      "provenance": []
    },
    "kernelspec": {
      "name": "python3",
      "display_name": "Python 3"
    },
    "language_info": {
      "name": "python"
    }
  },
  "cells": [
    {
      "cell_type": "markdown",
      "source": [
        "# ***TASK 1 Super-Mart_Sales_Analytics***"
      ],
      "metadata": {
        "id": "fBJqQCX1jMbK"
      }
    },
    {
      "cell_type": "code",
      "execution_count": null,
      "metadata": {
        "id": "XHTzaKYTehj9"
      },
      "outputs": [],
      "source": [
        "import numpy as np\n",
        "import pandas as pd\n",
        "import matplotlib.pyplot as plt\n",
        "import matplotlib"
      ]
    },
    {
      "cell_type": "code",
      "source": [
        "data=pd.read_csv('supermarket_sales.csv')\n",
        "\n",
        "data.head()"
      ],
      "metadata": {
        "colab": {
          "base_uri": "https://localhost:8080/",
          "height": 354
        },
        "id": "T72ma6w8evVo",
        "outputId": "03e3365b-ad47-49b1-8e43-55df57596fdb"
      },
      "execution_count": null,
      "outputs": [
        {
          "output_type": "execute_result",
          "data": {
            "text/plain": [
              "    Invoice ID Branch       City Customer type  Gender  \\\n",
              "0  750-67-8428      A     Yangon        Member  Female   \n",
              "1  226-31-3081      C  Naypyitaw        Normal  Female   \n",
              "2  631-41-3108      A     Yangon        Normal    Male   \n",
              "3  123-19-1176      A     Yangon        Member    Male   \n",
              "4  373-73-7910      A     Yangon        Normal    Male   \n",
              "\n",
              "             Product line  Unit price  Quantity   Tax 5%     Total     Date  \\\n",
              "0       Health and beauty       74.69       7.0  26.1415  548.9715   1/5/19   \n",
              "1  Electronic accessories       15.28       5.0   3.8200   80.2200   3/8/19   \n",
              "2      Home and lifestyle       46.33       7.0  16.2155  340.5255   3/3/19   \n",
              "3       Health and beauty       58.22       8.0  23.2880  489.0480  1/27/19   \n",
              "4       Sports and travel       86.31       7.0  30.2085  634.3785   2/8/19   \n",
              "\n",
              "    Time      Payment    cogs  gross margin percentage  gross income  Rating  \n",
              "0  13:08      Ewallet  522.83                 4.761905       26.1415     9.1  \n",
              "1  10:29         Cash   76.40                 4.761905        3.8200     9.6  \n",
              "2  13:23  Credit card  324.31                 4.761905       16.2155     7.4  \n",
              "3  20:33      Ewallet  465.76                 4.761905       23.2880     8.4  \n",
              "4  10:37      Ewallet  604.17                 4.761905       30.2085     5.3  "
            ],
            "text/html": [
              "\n",
              "  <div id=\"df-d7e1bf9a-1c86-48e4-8902-4b13adbe4404\">\n",
              "    <div class=\"colab-df-container\">\n",
              "      <div>\n",
              "<style scoped>\n",
              "    .dataframe tbody tr th:only-of-type {\n",
              "        vertical-align: middle;\n",
              "    }\n",
              "\n",
              "    .dataframe tbody tr th {\n",
              "        vertical-align: top;\n",
              "    }\n",
              "\n",
              "    .dataframe thead th {\n",
              "        text-align: right;\n",
              "    }\n",
              "</style>\n",
              "<table border=\"1\" class=\"dataframe\">\n",
              "  <thead>\n",
              "    <tr style=\"text-align: right;\">\n",
              "      <th></th>\n",
              "      <th>Invoice ID</th>\n",
              "      <th>Branch</th>\n",
              "      <th>City</th>\n",
              "      <th>Customer type</th>\n",
              "      <th>Gender</th>\n",
              "      <th>Product line</th>\n",
              "      <th>Unit price</th>\n",
              "      <th>Quantity</th>\n",
              "      <th>Tax 5%</th>\n",
              "      <th>Total</th>\n",
              "      <th>Date</th>\n",
              "      <th>Time</th>\n",
              "      <th>Payment</th>\n",
              "      <th>cogs</th>\n",
              "      <th>gross margin percentage</th>\n",
              "      <th>gross income</th>\n",
              "      <th>Rating</th>\n",
              "    </tr>\n",
              "  </thead>\n",
              "  <tbody>\n",
              "    <tr>\n",
              "      <th>0</th>\n",
              "      <td>750-67-8428</td>\n",
              "      <td>A</td>\n",
              "      <td>Yangon</td>\n",
              "      <td>Member</td>\n",
              "      <td>Female</td>\n",
              "      <td>Health and beauty</td>\n",
              "      <td>74.69</td>\n",
              "      <td>7.0</td>\n",
              "      <td>26.1415</td>\n",
              "      <td>548.9715</td>\n",
              "      <td>1/5/19</td>\n",
              "      <td>13:08</td>\n",
              "      <td>Ewallet</td>\n",
              "      <td>522.83</td>\n",
              "      <td>4.761905</td>\n",
              "      <td>26.1415</td>\n",
              "      <td>9.1</td>\n",
              "    </tr>\n",
              "    <tr>\n",
              "      <th>1</th>\n",
              "      <td>226-31-3081</td>\n",
              "      <td>C</td>\n",
              "      <td>Naypyitaw</td>\n",
              "      <td>Normal</td>\n",
              "      <td>Female</td>\n",
              "      <td>Electronic accessories</td>\n",
              "      <td>15.28</td>\n",
              "      <td>5.0</td>\n",
              "      <td>3.8200</td>\n",
              "      <td>80.2200</td>\n",
              "      <td>3/8/19</td>\n",
              "      <td>10:29</td>\n",
              "      <td>Cash</td>\n",
              "      <td>76.40</td>\n",
              "      <td>4.761905</td>\n",
              "      <td>3.8200</td>\n",
              "      <td>9.6</td>\n",
              "    </tr>\n",
              "    <tr>\n",
              "      <th>2</th>\n",
              "      <td>631-41-3108</td>\n",
              "      <td>A</td>\n",
              "      <td>Yangon</td>\n",
              "      <td>Normal</td>\n",
              "      <td>Male</td>\n",
              "      <td>Home and lifestyle</td>\n",
              "      <td>46.33</td>\n",
              "      <td>7.0</td>\n",
              "      <td>16.2155</td>\n",
              "      <td>340.5255</td>\n",
              "      <td>3/3/19</td>\n",
              "      <td>13:23</td>\n",
              "      <td>Credit card</td>\n",
              "      <td>324.31</td>\n",
              "      <td>4.761905</td>\n",
              "      <td>16.2155</td>\n",
              "      <td>7.4</td>\n",
              "    </tr>\n",
              "    <tr>\n",
              "      <th>3</th>\n",
              "      <td>123-19-1176</td>\n",
              "      <td>A</td>\n",
              "      <td>Yangon</td>\n",
              "      <td>Member</td>\n",
              "      <td>Male</td>\n",
              "      <td>Health and beauty</td>\n",
              "      <td>58.22</td>\n",
              "      <td>8.0</td>\n",
              "      <td>23.2880</td>\n",
              "      <td>489.0480</td>\n",
              "      <td>1/27/19</td>\n",
              "      <td>20:33</td>\n",
              "      <td>Ewallet</td>\n",
              "      <td>465.76</td>\n",
              "      <td>4.761905</td>\n",
              "      <td>23.2880</td>\n",
              "      <td>8.4</td>\n",
              "    </tr>\n",
              "    <tr>\n",
              "      <th>4</th>\n",
              "      <td>373-73-7910</td>\n",
              "      <td>A</td>\n",
              "      <td>Yangon</td>\n",
              "      <td>Normal</td>\n",
              "      <td>Male</td>\n",
              "      <td>Sports and travel</td>\n",
              "      <td>86.31</td>\n",
              "      <td>7.0</td>\n",
              "      <td>30.2085</td>\n",
              "      <td>634.3785</td>\n",
              "      <td>2/8/19</td>\n",
              "      <td>10:37</td>\n",
              "      <td>Ewallet</td>\n",
              "      <td>604.17</td>\n",
              "      <td>4.761905</td>\n",
              "      <td>30.2085</td>\n",
              "      <td>5.3</td>\n",
              "    </tr>\n",
              "  </tbody>\n",
              "</table>\n",
              "</div>\n",
              "      <button class=\"colab-df-convert\" onclick=\"convertToInteractive('df-d7e1bf9a-1c86-48e4-8902-4b13adbe4404')\"\n",
              "              title=\"Convert this dataframe to an interactive table.\"\n",
              "              style=\"display:none;\">\n",
              "        \n",
              "  <svg xmlns=\"http://www.w3.org/2000/svg\" height=\"24px\"viewBox=\"0 0 24 24\"\n",
              "       width=\"24px\">\n",
              "    <path d=\"M0 0h24v24H0V0z\" fill=\"none\"/>\n",
              "    <path d=\"M18.56 5.44l.94 2.06.94-2.06 2.06-.94-2.06-.94-.94-2.06-.94 2.06-2.06.94zm-11 1L8.5 8.5l.94-2.06 2.06-.94-2.06-.94L8.5 2.5l-.94 2.06-2.06.94zm10 10l.94 2.06.94-2.06 2.06-.94-2.06-.94-.94-2.06-.94 2.06-2.06.94z\"/><path d=\"M17.41 7.96l-1.37-1.37c-.4-.4-.92-.59-1.43-.59-.52 0-1.04.2-1.43.59L10.3 9.45l-7.72 7.72c-.78.78-.78 2.05 0 2.83L4 21.41c.39.39.9.59 1.41.59.51 0 1.02-.2 1.41-.59l7.78-7.78 2.81-2.81c.8-.78.8-2.07 0-2.86zM5.41 20L4 18.59l7.72-7.72 1.47 1.35L5.41 20z\"/>\n",
              "  </svg>\n",
              "      </button>\n",
              "      \n",
              "  <style>\n",
              "    .colab-df-container {\n",
              "      display:flex;\n",
              "      flex-wrap:wrap;\n",
              "      gap: 12px;\n",
              "    }\n",
              "\n",
              "    .colab-df-convert {\n",
              "      background-color: #E8F0FE;\n",
              "      border: none;\n",
              "      border-radius: 50%;\n",
              "      cursor: pointer;\n",
              "      display: none;\n",
              "      fill: #1967D2;\n",
              "      height: 32px;\n",
              "      padding: 0 0 0 0;\n",
              "      width: 32px;\n",
              "    }\n",
              "\n",
              "    .colab-df-convert:hover {\n",
              "      background-color: #E2EBFA;\n",
              "      box-shadow: 0px 1px 2px rgba(60, 64, 67, 0.3), 0px 1px 3px 1px rgba(60, 64, 67, 0.15);\n",
              "      fill: #174EA6;\n",
              "    }\n",
              "\n",
              "    [theme=dark] .colab-df-convert {\n",
              "      background-color: #3B4455;\n",
              "      fill: #D2E3FC;\n",
              "    }\n",
              "\n",
              "    [theme=dark] .colab-df-convert:hover {\n",
              "      background-color: #434B5C;\n",
              "      box-shadow: 0px 1px 3px 1px rgba(0, 0, 0, 0.15);\n",
              "      filter: drop-shadow(0px 1px 2px rgba(0, 0, 0, 0.3));\n",
              "      fill: #FFFFFF;\n",
              "    }\n",
              "  </style>\n",
              "\n",
              "      <script>\n",
              "        const buttonEl =\n",
              "          document.querySelector('#df-d7e1bf9a-1c86-48e4-8902-4b13adbe4404 button.colab-df-convert');\n",
              "        buttonEl.style.display =\n",
              "          google.colab.kernel.accessAllowed ? 'block' : 'none';\n",
              "\n",
              "        async function convertToInteractive(key) {\n",
              "          const element = document.querySelector('#df-d7e1bf9a-1c86-48e4-8902-4b13adbe4404');\n",
              "          const dataTable =\n",
              "            await google.colab.kernel.invokeFunction('convertToInteractive',\n",
              "                                                     [key], {});\n",
              "          if (!dataTable) return;\n",
              "\n",
              "          const docLinkHtml = 'Like what you see? Visit the ' +\n",
              "            '<a target=\"_blank\" href=https://colab.research.google.com/notebooks/data_table.ipynb>data table notebook</a>'\n",
              "            + ' to learn more about interactive tables.';\n",
              "          element.innerHTML = '';\n",
              "          dataTable['output_type'] = 'display_data';\n",
              "          await google.colab.output.renderOutput(dataTable, element);\n",
              "          const docLink = document.createElement('div');\n",
              "          docLink.innerHTML = docLinkHtml;\n",
              "          element.appendChild(docLink);\n",
              "        }\n",
              "      </script>\n",
              "    </div>\n",
              "  </div>\n",
              "  "
            ]
          },
          "metadata": {},
          "execution_count": 2
        }
      ]
    },
    {
      "cell_type": "markdown",
      "source": [
        "# ***Payment Type Classification***"
      ],
      "metadata": {
        "id": "28KhD9sQe0dS"
      }
    },
    {
      "cell_type": "code",
      "source": [
        "payment_cash=data[(data.Payment == 'Cash')]\n",
        "payment_cash.shape"
      ],
      "metadata": {
        "colab": {
          "base_uri": "https://localhost:8080/"
        },
        "id": "YdIx133uevTB",
        "outputId": "6dbd28fd-fa87-48bf-d26c-cfe123e31d3f"
      },
      "execution_count": null,
      "outputs": [
        {
          "output_type": "execute_result",
          "data": {
            "text/plain": [
              "(346, 17)"
            ]
          },
          "metadata": {},
          "execution_count": 3
        }
      ]
    },
    {
      "cell_type": "code",
      "source": [
        "payment_ewallet=data[(data.Payment == 'Ewallet')]\n",
        "payment_ewallet.shape"
      ],
      "metadata": {
        "colab": {
          "base_uri": "https://localhost:8080/"
        },
        "id": "1N5H1dZ2evQt",
        "outputId": "6491350a-b7ec-4dcd-f0fb-977b45dc9f90"
      },
      "execution_count": null,
      "outputs": [
        {
          "output_type": "execute_result",
          "data": {
            "text/plain": [
              "(346, 17)"
            ]
          },
          "metadata": {},
          "execution_count": 4
        }
      ]
    },
    {
      "cell_type": "code",
      "source": [
        "payment_cc=data[(data.Payment == 'Credit card')]\n",
        "payment_cc.shape"
      ],
      "metadata": {
        "colab": {
          "base_uri": "https://localhost:8080/"
        },
        "id": "mDpoNdwMevN2",
        "outputId": "82f4604c-0041-4f69-99d3-b91ad31bdca6"
      },
      "execution_count": null,
      "outputs": [
        {
          "output_type": "execute_result",
          "data": {
            "text/plain": [
              "(311, 17)"
            ]
          },
          "metadata": {},
          "execution_count": 5
        }
      ]
    },
    {
      "cell_type": "code",
      "source": [
        "payment_type=[344,345,311]\n",
        "labels=['Cash','E-Wallet','Credit Card']\n",
        "\n",
        "plt.pie(payment_type,labels=labels,startangle=180,autopct='%.2f %%')\n",
        "plt.title('Type of Payments', fontdict={'fontname': 'Sans Serif', 'fontsize': 20})\n",
        "plt.axis('equal')\n",
        "\n",
        "plt.savefig('Type of Payments.png', dpi=300)\n",
        "plt.show()"
      ],
      "metadata": {
        "colab": {
          "base_uri": "https://localhost:8080/",
          "height": 269
        },
        "id": "c387Qv4CevLd",
        "outputId": "613c00e4-1e76-434f-9052-762b6a488fe0"
      },
      "execution_count": null,
      "outputs": [
        {
          "output_type": "display_data",
          "data": {
            "text/plain": [
              "<Figure size 432x288 with 1 Axes>"
            ],
            "image/png": "[encoded data removed]"
          },
          "metadata": {}
        }
      ]
    },
    {
      "cell_type": "code",
      "source": [
        "data.head()"
      ],
      "metadata": {
        "colab": {
          "base_uri": "https://localhost:8080/",
          "height": 354
        },
        "id": "W0M_2XPBevFz",
        "outputId": "02d46792-1042-45ee-a7d0-6c6b6b73f572"
      },
      "execution_count": null,
      "outputs": [
        {
          "output_type": "execute_result",
          "data": {
            "text/plain": [
              "    Invoice ID Branch       City Customer type  Gender  \\\n",
              "0  750-67-8428      A     Yangon        Member  Female   \n",
              "1  226-31-3081      C  Naypyitaw        Normal  Female   \n",
              "2  631-41-3108      A     Yangon        Normal    Male   \n",
              "3  123-19-1176      A     Yangon        Member    Male   \n",
              "4  373-73-7910      A     Yangon        Normal    Male   \n",
              "\n",
              "             Product line  Unit price  Quantity   Tax 5%     Total     Date  \\\n",
              "0       Health and beauty       74.69       7.0  26.1415  548.9715   1/5/19   \n",
              "1  Electronic accessories       15.28       5.0   3.8200   80.2200   3/8/19   \n",
              "2      Home and lifestyle       46.33       7.0  16.2155  340.5255   3/3/19   \n",
              "3       Health and beauty       58.22       8.0  23.2880  489.0480  1/27/19   \n",
              "4       Sports and travel       86.31       7.0  30.2085  634.3785   2/8/19   \n",
              "\n",
              "    Time      Payment    cogs  gross margin percentage  gross income  Rating  \n",
              "0  13:08      Ewallet  522.83                 4.761905       26.1415     9.1  \n",
              "1  10:29         Cash   76.40                 4.761905        3.8200     9.6  \n",
              "2  13:23  Credit card  324.31                 4.761905       16.2155     7.4  \n",
              "3  20:33      Ewallet  465.76                 4.761905       23.2880     8.4  \n",
              "4  10:37      Ewallet  604.17                 4.761905       30.2085     5.3  "
            ],
            "text/html": [
              "\n",
              "  <div id=\"df-8ab8695d-9eb8-429e-ba1b-c98493dceba9\">\n",
              "    <div class=\"colab-df-container\">\n",
              "      <div>\n",
              "<style scoped>\n",
              "    .dataframe tbody tr th:only-of-type {\n",
              "        vertical-align: middle;\n",
              "    }\n",
              "\n",
              "    .dataframe tbody tr th {\n",
              "        vertical-align: top;\n",
              "    }\n",
              "\n",
              "    .dataframe thead th {\n",
              "        text-align: right;\n",
              "    }\n",
              "</style>\n",
              "<table border=\"1\" class=\"dataframe\">\n",
              "  <thead>\n",
              "    <tr style=\"text-align: right;\">\n",
              "      <th></th>\n",
              "      <th>Invoice ID</th>\n",
              "      <th>Branch</th>\n",
              "      <th>City</th>\n",
              "      <th>Customer type</th>\n",
              "      <th>Gender</th>\n",
              "      <th>Product line</th>\n",
              "      <th>Unit price</th>\n",
              "      <th>Quantity</th>\n",
              "      <th>Tax 5%</th>\n",
              "      <th>Total</th>\n",
              "      <th>Date</th>\n",
              "      <th>Time</th>\n",
              "      <th>Payment</th>\n",
              "      <th>cogs</th>\n",
              "      <th>gross margin percentage</th>\n",
              "      <th>gross income</th>\n",
              "      <th>Rating</th>\n",
              "    </tr>\n",
              "  </thead>\n",
              "  <tbody>\n",
              "    <tr>\n",
              "      <th>0</th>\n",
              "      <td>750-67-8428</td>\n",
              "      <td>A</td>\n",
              "      <td>Yangon</td>\n",
              "      <td>Member</td>\n",
              "      <td>Female</td>\n",
              "      <td>Health and beauty</td>\n",
              "      <td>74.69</td>\n",
              "      <td>7.0</td>\n",
              "      <td>26.1415</td>\n",
              "      <td>548.9715</td>\n",
              "      <td>1/5/19</td>\n",
              "      <td>13:08</td>\n",
              "      <td>Ewallet</td>\n",
              "      <td>522.83</td>\n",
              "      <td>4.761905</td>\n",
              "      <td>26.1415</td>\n",
              "      <td>9.1</td>\n",
              "    </tr>\n",
              "    <tr>\n",
              "      <th>1</th>\n",
              "      <td>226-31-3081</td>\n",
              "      <td>C</td>\n",
              "      <td>Naypyitaw</td>\n",
              "      <td>Normal</td>\n",
              "      <td>Female</td>\n",
              "      <td>Electronic accessories</td>\n",
              "      <td>15.28</td>\n",
              "      <td>5.0</td>\n",
              "      <td>3.8200</td>\n",
              "      <td>80.2200</td>\n",
              "      <td>3/8/19</td>\n",
              "      <td>10:29</td>\n",
              "      <td>Cash</td>\n",
              "      <td>76.40</td>\n",
              "      <td>4.761905</td>\n",
              "      <td>3.8200</td>\n",
              "      <td>9.6</td>\n",
              "    </tr>\n",
              "    <tr>\n",
              "      <th>2</th>\n",
              "      <td>631-41-3108</td>\n",
              "      <td>A</td>\n",
              "      <td>Yangon</td>\n",
              "      <td>Normal</td>\n",
              "      <td>Male</td>\n",
              "      <td>Home and lifestyle</td>\n",
              "      <td>46.33</td>\n",
              "      <td>7.0</td>\n",
              "      <td>16.2155</td>\n",
              "      <td>340.5255</td>\n",
              "      <td>3/3/19</td>\n",
              "      <td>13:23</td>\n",
              "      <td>Credit card</td>\n",
              "      <td>324.31</td>\n",
              "      <td>4.761905</td>\n",
              "      <td>16.2155</td>\n",
              "      <td>7.4</td>\n",
              "    </tr>\n",
              "    <tr>\n",
              "      <th>3</th>\n",
              "      <td>123-19-1176</td>\n",
              "      <td>A</td>\n",
              "      <td>Yangon</td>\n",
              "      <td>Member</td>\n",
              "      <td>Male</td>\n",
              "      <td>Health and beauty</td>\n",
              "      <td>58.22</td>\n",
              "      <td>8.0</td>\n",
              "      <td>23.2880</td>\n",
              "      <td>489.0480</td>\n",
              "      <td>1/27/19</td>\n",
              "      <td>20:33</td>\n",
              "      <td>Ewallet</td>\n",
              "      <td>465.76</td>\n",
              "      <td>4.761905</td>\n",
              "      <td>23.2880</td>\n",
              "      <td>8.4</td>\n",
              "    </tr>\n",
              "    <tr>\n",
              "      <th>4</th>\n",
              "      <td>373-73-7910</td>\n",
              "      <td>A</td>\n",
              "      <td>Yangon</td>\n",
              "      <td>Normal</td>\n",
              "      <td>Male</td>\n",
              "      <td>Sports and travel</td>\n",
              "      <td>86.31</td>\n",
              "      <td>7.0</td>\n",
              "      <td>30.2085</td>\n",
              "      <td>634.3785</td>\n",
              "      <td>2/8/19</td>\n",
              "      <td>10:37</td>\n",
              "      <td>Ewallet</td>\n",
              "      <td>604.17</td>\n",
              "      <td>4.761905</td>\n",
              "      <td>30.2085</td>\n",
              "      <td>5.3</td>\n",
              "    </tr>\n",
              "  </tbody>\n",
              "</table>\n",
              "</div>\n",
              "      <button class=\"colab-df-convert\" onclick=\"convertToInteractive('df-8ab8695d-9eb8-429e-ba1b-c98493dceba9')\"\n",
              "              title=\"Convert this dataframe to an interactive table.\"\n",
              "              style=\"display:none;\">\n",
              "        \n",
              "  <svg xmlns=\"http://www.w3.org/2000/svg\" height=\"24px\"viewBox=\"0 0 24 24\"\n",
              "       width=\"24px\">\n",
              "    <path d=\"M0 0h24v24H0V0z\" fill=\"none\"/>\n",
              "    <path d=\"M18.56 5.44l.94 2.06.94-2.06 2.06-.94-2.06-.94-.94-2.06-.94 2.06-2.06.94zm-11 1L8.5 8.5l.94-2.06 2.06-.94-2.06-.94L8.5 2.5l-.94 2.06-2.06.94zm10 10l.94 2.06.94-2.06 2.06-.94-2.06-.94-.94-2.06-.94 2.06-2.06.94z\"/><path d=\"M17.41 7.96l-1.37-1.37c-.4-.4-.92-.59-1.43-.59-.52 0-1.04.2-1.43.59L10.3 9.45l-7.72 7.72c-.78.78-.78 2.05 0 2.83L4 21.41c.39.39.9.59 1.41.59.51 0 1.02-.2 1.41-.59l7.78-7.78 2.81-2.81c.8-.78.8-2.07 0-2.86zM5.41 20L4 18.59l7.72-7.72 1.47 1.35L5.41 20z\"/>\n",
              "  </svg>\n",
              "      </button>\n",
              "      \n",
              "  <style>\n",
              "    .colab-df-container {\n",
              "      display:flex;\n",
              "      flex-wrap:wrap;\n",
              "      gap: 12px;\n",
              "    }\n",
              "\n",
              "    .colab-df-convert {\n",
              "      background-color: #E8F0FE;\n",
              "      border: none;\n",
              "      border-radius: 50%;\n",
              "      cursor: pointer;\n",
              "      display: none;\n",
              "      fill: #1967D2;\n",
              "      height: 32px;\n",
              "      padding: 0 0 0 0;\n",
              "      width: 32px;\n",
              "    }\n",
              "\n",
              "    .colab-df-convert:hover {\n",
              "      background-color: #E2EBFA;\n",
              "      box-shadow: 0px 1px 2px rgba(60, 64, 67, 0.3), 0px 1px 3px 1px rgba(60, 64, 67, 0.15);\n",
              "      fill: #174EA6;\n",
              "    }\n",
              "\n",
              "    [theme=dark] .colab-df-convert {\n",
              "      background-color: #3B4455;\n",
              "      fill: #D2E3FC;\n",
              "    }\n",
              "\n",
              "    [theme=dark] .colab-df-convert:hover {\n",
              "      background-color: #434B5C;\n",
              "      box-shadow: 0px 1px 3px 1px rgba(0, 0, 0, 0.15);\n",
              "      filter: drop-shadow(0px 1px 2px rgba(0, 0, 0, 0.3));\n",
              "      fill: #FFFFFF;\n",
              "    }\n",
              "  </style>\n",
              "\n",
              "      <script>\n",
              "        const buttonEl =\n",
              "          document.querySelector('#df-8ab8695d-9eb8-429e-ba1b-c98493dceba9 button.colab-df-convert');\n",
              "        buttonEl.style.display =\n",
              "          google.colab.kernel.accessAllowed ? 'block' : 'none';\n",
              "\n",
              "        async function convertToInteractive(key) {\n",
              "          const element = document.querySelector('#df-8ab8695d-9eb8-429e-ba1b-c98493dceba9');\n",
              "          const dataTable =\n",
              "            await google.colab.kernel.invokeFunction('convertToInteractive',\n",
              "                                                     [key], {});\n",
              "          if (!dataTable) return;\n",
              "\n",
              "          const docLinkHtml = 'Like what you see? Visit the ' +\n",
              "            '<a target=\"_blank\" href=https://colab.research.google.com/notebooks/data_table.ipynb>data table notebook</a>'\n",
              "            + ' to learn more about interactive tables.';\n",
              "          element.innerHTML = '';\n",
              "          dataTable['output_type'] = 'display_data';\n",
              "          await google.colab.output.renderOutput(dataTable, element);\n",
              "          const docLink = document.createElement('div');\n",
              "          docLink.innerHTML = docLinkHtml;\n",
              "          element.appendChild(docLink);\n",
              "        }\n",
              "      </script>\n",
              "    </div>\n",
              "  </div>\n",
              "  "
            ]
          },
          "metadata": {},
          "execution_count": 7
        }
      ]
    },
    {
      "cell_type": "markdown",
      "source": [
        "# ***Branch wise Classification***"
      ],
      "metadata": {
        "id": "rjHG1UFKe_Q3"
      }
    },
    {
      "cell_type": "code",
      "source": [
        "branch_a=data[(data.Branch == 'A')]\n",
        "branch_a.shape"
      ],
      "metadata": {
        "colab": {
          "base_uri": "https://localhost:8080/"
        },
        "id": "WU0o3jZcevDL",
        "outputId": "f89f0c2e-19af-44a0-aac8-f39be898fe7e"
      },
      "execution_count": null,
      "outputs": [
        {
          "output_type": "execute_result",
          "data": {
            "text/plain": [
              "(342, 17)"
            ]
          },
          "metadata": {},
          "execution_count": 8
        }
      ]
    },
    {
      "cell_type": "code",
      "source": [
        "branch_b=data[(data.Branch == 'B')]\n",
        "branch_b.shape"
      ],
      "metadata": {
        "colab": {
          "base_uri": "https://localhost:8080/"
        },
        "id": "KHg3_m1ifET_",
        "outputId": "8355d624-9050-4cf2-9250-60fed6b63e02"
      },
      "execution_count": null,
      "outputs": [
        {
          "output_type": "execute_result",
          "data": {
            "text/plain": [
              "(333, 17)"
            ]
          },
          "metadata": {},
          "execution_count": 9
        }
      ]
    },
    {
      "cell_type": "code",
      "source": [
        "branch_c=data[(data.Branch == 'C')]\n",
        "branch_c.shape"
      ],
      "metadata": {
        "colab": {
          "base_uri": "https://localhost:8080/"
        },
        "id": "pAnx6mWtfERe",
        "outputId": "7d63b3dc-d049-46a0-b990-fb0a39068726"
      },
      "execution_count": null,
      "outputs": [
        {
          "output_type": "execute_result",
          "data": {
            "text/plain": [
              "(328, 17)"
            ]
          },
          "metadata": {},
          "execution_count": 10
        }
      ]
    },
    {
      "cell_type": "code",
      "source": [
        "branch_type=[340,332,328]\n",
        "branch_name=['A','B','C']\n",
        "\n",
        "plt.bar(branch_name,branch_type, color='y')\n",
        "plt.title('Branch wise Sales',fontdict={'fontname': 'Sans Serif', 'fontsize': 20})\n",
        "plt.ylabel('Invoice',fontdict={'fontname': 'Sans Serif', 'fontsize': 15})\n",
        "plt.xlabel('Branch',fontdict={'fontname': 'Sans Serif', 'fontsize': 15})\n",
        "\n",
        "#plt.legend()\n",
        "plt.savefig('Branch wise Sales.png',dpi=300)\n",
        "plt.show()"
      ],
      "metadata": {
        "colab": {
          "base_uri": "https://localhost:8080/",
          "height": 305
        },
        "id": "-v5oQmwjfEPC",
        "outputId": "e46f3ddf-321c-4f1d-fea8-1ece11f9ea31"
      },
      "execution_count": null,
      "outputs": [
        {
          "output_type": "display_data",
          "data": {
            "text/plain": [
              "<Figure size 432x288 with 1 Axes>"
            ],
            "image/png": "[encoded data removed]"
          },
          "metadata": {
            "needs_background": "light"
          }
        }
      ]
    },
    {
      "cell_type": "markdown",
      "source": [
        "# ***customer type classification***"
      ],
      "metadata": {
        "id": "0mtftQ8cfJ-Y"
      }
    },
    {
      "cell_type": "code",
      "source": [
        "cus_member=data[(data['Customer type'] == 'Member')]\n",
        "cus_member.shape"
      ],
      "metadata": {
        "colab": {
          "base_uri": "https://localhost:8080/"
        },
        "id": "ePb5b1f8fEM0",
        "outputId": "6ab94d9b-ce06-4d2a-eaba-74eb27901cd6"
      },
      "execution_count": null,
      "outputs": [
        {
          "output_type": "execute_result",
          "data": {
            "text/plain": [
              "(454, 17)"
            ]
          },
          "metadata": {},
          "execution_count": 12
        }
      ]
    },
    {
      "cell_type": "code",
      "source": [
        "cus_normal=data[(data['Customer type'] == 'Normal')]\n",
        "cus_normal.shape"
      ],
      "metadata": {
        "colab": {
          "base_uri": "https://localhost:8080/"
        },
        "id": "IIScsx8MfEKn",
        "outputId": "89e0b4e0-ade6-42a9-cb1b-0aab3a0cbbe7"
      },
      "execution_count": null,
      "outputs": [
        {
          "output_type": "execute_result",
          "data": {
            "text/plain": [
              "(470, 17)"
            ]
          },
          "metadata": {},
          "execution_count": 13
        }
      ]
    },
    {
      "cell_type": "code",
      "source": [
        "cus_type=[501,499]\n",
        "labels=['Member Customer','Normal Customer']\n",
        "\n",
        "plt.pie(cus_type,labels=labels,startangle=90,autopct='%.2f %%')\n",
        "plt.title('Type of Customer', fontdict={'fontname': 'Sans Serif', 'fontsize': 20})\n",
        "plt.axis('equal')\n",
        "\n",
        "plt.savefig('Type of Customer.png', dpi=300)\n",
        "plt.show()"
      ],
      "metadata": {
        "colab": {
          "base_uri": "https://localhost:8080/",
          "height": 269
        },
        "id": "nJtLw-KvfEIU",
        "outputId": "f48d1e99-3db6-4f49-b25e-ee3147ada1d1"
      },
      "execution_count": null,
      "outputs": [
        {
          "output_type": "display_data",
          "data": {
            "text/plain": [
              "<Figure size 432x288 with 1 Axes>"
            ],
            "image/png": "[encoded data removed]"
          },
          "metadata": {}
        }
      ]
    },
    {
      "cell_type": "markdown",
      "source": [
        "# ***Product wise Classification***"
      ],
      "metadata": {
        "id": "Fov09n3rfQmD"
      }
    },
    {
      "cell_type": "code",
      "source": [
        "prod_Health_and_beauty=data[(data['Product line'] == 'Health and beauty')]\n",
        "prod_Health_and_beauty.shape"
      ],
      "metadata": {
        "colab": {
          "base_uri": "https://localhost:8080/"
        },
        "id": "SUlObZ0MfEF-",
        "outputId": "bda1950c-988e-4a72-c4c3-5a5b2eec3fa5"
      },
      "execution_count": null,
      "outputs": [
        {
          "output_type": "execute_result",
          "data": {
            "text/plain": [
              "(144, 17)"
            ]
          },
          "metadata": {},
          "execution_count": 15
        }
      ]
    },
    {
      "cell_type": "code",
      "source": [
        "prod_Electronic_accessories=data[(data['Product line'] == 'Electronic accessories')]\n",
        "prod_Electronic_accessories.shape"
      ],
      "metadata": {
        "colab": {
          "base_uri": "https://localhost:8080/"
        },
        "id": "DhRMVThrfEDu",
        "outputId": "f7c2692e-46b3-4a38-9668-9d6a40905801"
      },
      "execution_count": null,
      "outputs": [
        {
          "output_type": "execute_result",
          "data": {
            "text/plain": [
              "(165, 17)"
            ]
          },
          "metadata": {},
          "execution_count": 16
        }
      ]
    },
    {
      "cell_type": "code",
      "source": [
        "prod_Home_and_lifestyle=data[(data['Product line'] == 'Home and lifestyle')]\n",
        "prod_Home_and_lifestyle.shape"
      ],
      "metadata": {
        "colab": {
          "base_uri": "https://localhost:8080/"
        },
        "id": "i0ic3nDjfEBX",
        "outputId": "609a53f7-82ab-4b5c-9144-a4e255cd49d6"
      },
      "execution_count": null,
      "outputs": [
        {
          "output_type": "execute_result",
          "data": {
            "text/plain": [
              "(151, 17)"
            ]
          },
          "metadata": {},
          "execution_count": 17
        }
      ]
    },
    {
      "cell_type": "code",
      "source": [
        "prod_Sports_and_travel=data[(data['Product line'] == 'Sports and travel')]\n",
        "prod_Sports_and_travel.shape"
      ],
      "metadata": {
        "colab": {
          "base_uri": "https://localhost:8080/"
        },
        "id": "zYgA1WpAfD-0",
        "outputId": "1c97d9d5-ca36-4049-8762-13fed408eeff"
      },
      "execution_count": null,
      "outputs": [
        {
          "output_type": "execute_result",
          "data": {
            "text/plain": [
              "(163, 17)"
            ]
          },
          "metadata": {},
          "execution_count": 18
        }
      ]
    },
    {
      "cell_type": "code",
      "source": [
        "prod_Food_and_beverages=data[(data['Product line'] == 'Food and beverages')]\n",
        "prod_Food_and_beverages.shape"
      ],
      "metadata": {
        "colab": {
          "base_uri": "https://localhost:8080/"
        },
        "id": "d0x1lzSWfD7-",
        "outputId": "5e5a5db4-aed0-4926-9b2f-df85da8c5e36"
      },
      "execution_count": null,
      "outputs": [
        {
          "output_type": "execute_result",
          "data": {
            "text/plain": [
              "(165, 17)"
            ]
          },
          "metadata": {},
          "execution_count": 19
        }
      ]
    },
    {
      "cell_type": "code",
      "source": [
        "prod_Fashion_accessories=data[(data['Product line'] == 'Fashion accessories')]\n",
        "prod_Fashion_accessories.shape"
      ],
      "metadata": {
        "colab": {
          "base_uri": "https://localhost:8080/"
        },
        "id": "O_wRaPzNfD4t",
        "outputId": "e994ea72-5424-4078-ca25-8beb8525d057"
      },
      "execution_count": null,
      "outputs": [
        {
          "output_type": "execute_result",
          "data": {
            "text/plain": [
              "(172, 17)"
            ]
          },
          "metadata": {},
          "execution_count": 20
        }
      ]
    },
    {
      "cell_type": "code",
      "source": [
        "product_type=[152,170,160,166,174,178]\n",
        "labels=['Health and Beauty','Electronic Accessories','Home and Lifestyle','Sports and Travel',\n",
        "       'Food and Beverages','Fashion Accessories']\n",
        "\n",
        "plt.pie(product_type,labels=labels,startangle=90,autopct='%.2f %%')\n",
        "plt.title('Type Product Sales', fontdict={'fontname': 'Sans Serif', 'fontsize': 20})\n",
        "plt.axis('equal')\n",
        "\n",
        "plt.savefig('Type of Product Sales.png', dpi=300)\n",
        "plt.show()"
      ],
      "metadata": {
        "colab": {
          "base_uri": "https://localhost:8080/",
          "height": 269
        },
        "id": "6FemrcPefD1l",
        "outputId": "acd1ec9b-8b80-4818-8c37-e3a80ad921e1"
      },
      "execution_count": null,
      "outputs": [
        {
          "output_type": "display_data",
          "data": {
            "text/plain": [
              "<Figure size 432x288 with 1 Axes>"
            ],
            "image/png": "[encoded data removed]"
          },
          "metadata": {}
        }
      ]
    },
    {
      "cell_type": "markdown",
      "source": [
        "# ***Gender wise Classification***"
      ],
      "metadata": {
        "id": "zEpG5EwCfcYo"
      }
    },
    {
      "cell_type": "code",
      "source": [
        "cus_male=data[(data.Gender == 'Male')]\n",
        "cus_male.shape"
      ],
      "metadata": {
        "colab": {
          "base_uri": "https://localhost:8080/"
        },
        "id": "JeNCHxV_fDzI",
        "outputId": "c85dcc8b-e876-4387-94e7-0a55db19cef5"
      },
      "execution_count": null,
      "outputs": [
        {
          "output_type": "execute_result",
          "data": {
            "text/plain": [
              "(501, 17)"
            ]
          },
          "metadata": {},
          "execution_count": 22
        }
      ]
    },
    {
      "cell_type": "code",
      "source": [
        "cus_female=data[(data.Gender == 'Female')]\n",
        "cus_female.shape"
      ],
      "metadata": {
        "colab": {
          "base_uri": "https://localhost:8080/"
        },
        "id": "L6-pO-XQfDv8",
        "outputId": "7f4c07c6-2403-4508-f9c4-a44bae21049a"
      },
      "execution_count": null,
      "outputs": [
        {
          "output_type": "execute_result",
          "data": {
            "text/plain": [
              "(502, 17)"
            ]
          },
          "metadata": {},
          "execution_count": 23
        }
      ]
    },
    {
      "cell_type": "code",
      "source": [
        "cus_type=[501,499]\n",
        "labels=['Female Customer','Male Customer']\n",
        "\n",
        "plt.pie(cus_type,labels=labels,startangle=90,autopct='%.2f %%')\n",
        "plt.title('Type of Customer (Gender)', fontdict={'fontname': 'Sans Serif', 'fontsize': 20})\n",
        "plt.axis('equal')\n",
        "\n",
        "plt.savefig('Type of Customer(gender).png', dpi=300)\n",
        "plt.show()"
      ],
      "metadata": {
        "colab": {
          "base_uri": "https://localhost:8080/",
          "height": 269
        },
        "id": "irQLbWbcfDtY",
        "outputId": "edad9822-d0be-4e9f-8a05-4ffe00544643"
      },
      "execution_count": null,
      "outputs": [
        {
          "output_type": "display_data",
          "data": {
            "text/plain": [
              "<Figure size 432x288 with 1 Axes>"
            ],
            "image/png": "[encoded data removed]"
          },
          "metadata": {}
        }
      ]
    },
    {
      "cell_type": "markdown",
      "source": [
        "# ***Gender and Customer wise Classification***"
      ],
      "metadata": {
        "id": "fGh_WjFufipO"
      }
    },
    {
      "cell_type": "code",
      "source": [
        "cus_male_normal=data[(data.Gender == 'Male')&(data['Customer type']== 'Normal')]\n",
        "cus_male_normal.shape"
      ],
      "metadata": {
        "colab": {
          "base_uri": "https://localhost:8080/"
        },
        "id": "soe6LKo7fDq1",
        "outputId": "e30c31e2-0af3-452d-d127-81cecbf5b710"
      },
      "execution_count": null,
      "outputs": [
        {
          "output_type": "execute_result",
          "data": {
            "text/plain": [
              "(245, 17)"
            ]
          },
          "metadata": {},
          "execution_count": 25
        }
      ]
    },
    {
      "cell_type": "code",
      "source": [
        "cus_male_member=data[(data.Gender == 'Male')&(data['Customer type']== 'Member')]\n",
        "cus_male_member.shape\n"
      ],
      "metadata": {
        "colab": {
          "base_uri": "https://localhost:8080/"
        },
        "id": "NqD6hXx3fDoG",
        "outputId": "a7de0743-9dc0-439e-bab2-02aa32b6d714"
      },
      "execution_count": null,
      "outputs": [
        {
          "output_type": "execute_result",
          "data": {
            "text/plain": [
              "(221, 17)"
            ]
          },
          "metadata": {},
          "execution_count": 26
        }
      ]
    },
    {
      "cell_type": "code",
      "source": [
        "cus_female_normal=data[(data.Gender == 'Female')&(data['Customer type']== 'Normal')]\n",
        "cus_female_normal.shape"
      ],
      "metadata": {
        "colab": {
          "base_uri": "https://localhost:8080/"
        },
        "id": "q8QMNSnnfDk-",
        "outputId": "1bfe25db-4625-4056-ad1c-8e52d17e31b6"
      },
      "execution_count": null,
      "outputs": [
        {
          "output_type": "execute_result",
          "data": {
            "text/plain": [
              "(225, 17)"
            ]
          },
          "metadata": {},
          "execution_count": 27
        }
      ]
    },
    {
      "cell_type": "code",
      "source": [
        "cus_female_member=data[(data.Gender == 'Female')&(data['Customer type']== 'Member')]\n",
        "cus_female_member.shape"
      ],
      "metadata": {
        "colab": {
          "base_uri": "https://localhost:8080/"
        },
        "id": "YRp2h0dGfDiO",
        "outputId": "981d56df-e07a-4b75-da21-5ef09a49c601"
      },
      "execution_count": null,
      "outputs": [
        {
          "output_type": "execute_result",
          "data": {
            "text/plain": [
              "(233, 17)"
            ]
          },
          "metadata": {},
          "execution_count": 28
        }
      ]
    },
    {
      "cell_type": "code",
      "source": [
        "cus_type=[259,240,240,261]\n",
        "labels=['Male Nomal Customer','Male Member Customer','Female Normal Customer','Female Member Customer']\n",
        "\n",
        "plt.pie(cus_type,labels=labels,startangle=90,autopct='%.2f %%')\n",
        "plt.title('Type of Customer (Gender and Customer Type)', fontdict={'fontname': 'Sans Serif', 'fontsize': 15})\n",
        "plt.axis('equal')\n",
        "\n",
        "plt.savefig('Type of Customer(gender and type).png', dpi=300)\n",
        "plt.show()"
      ],
      "metadata": {
        "colab": {
          "base_uri": "https://localhost:8080/",
          "height": 266
        },
        "id": "wrs5i0ilfDfh",
        "outputId": "05c85b25-550f-4013-fc1f-90a34692b3f5"
      },
      "execution_count": null,
      "outputs": [
        {
          "output_type": "display_data",
          "data": {
            "text/plain": [
              "<Figure size 432x288 with 1 Axes>"
            ],
            "image/png": "[encoded data removed]"
          },
          "metadata": {}
        }
      ]
    },
    {
      "cell_type": "markdown",
      "source": [
        "\n",
        "# Gender and Product wise Classification ***bold text***"
      ],
      "metadata": {
        "id": "_znQ_8qMft11"
      }
    },
    {
      "cell_type": "code",
      "source": [
        "prod_Health_and_beauty_female=prod_Health_and_beauty[(prod_Health_and_beauty.Gender == 'Female')]\n",
        "prod_Health_and_beauty_female.shape"
      ],
      "metadata": {
        "colab": {
          "base_uri": "https://localhost:8080/"
        },
        "id": "7ZKPcRf1fvX8",
        "outputId": "d6d298dc-ecd0-4da4-bae6-6ff3f445d079"
      },
      "execution_count": null,
      "outputs": [
        {
          "output_type": "execute_result",
          "data": {
            "text/plain": [
              "(62, 17)"
            ]
          },
          "metadata": {},
          "execution_count": 30
        }
      ]
    },
    {
      "cell_type": "code",
      "source": [
        "prod_Health_and_beauty_male=prod_Health_and_beauty[(prod_Health_and_beauty.Gender == 'Male')]\n",
        "prod_Health_and_beauty_male.shape"
      ],
      "metadata": {
        "colab": {
          "base_uri": "https://localhost:8080/"
        },
        "id": "Iyh8lZIVfv0m",
        "outputId": "789c1192-9e16-48d2-df99-c98f5db7a477"
      },
      "execution_count": null,
      "outputs": [
        {
          "output_type": "execute_result",
          "data": {
            "text/plain": [
              "(82, 17)"
            ]
          },
          "metadata": {},
          "execution_count": 31
        }
      ]
    },
    {
      "cell_type": "code",
      "source": [
        "prod_Electronic_accessories_female=prod_Electronic_accessories[(prod_Electronic_accessories.Gender == 'Female')]\n",
        "prod_Electronic_accessories_female.shape"
      ],
      "metadata": {
        "colab": {
          "base_uri": "https://localhost:8080/"
        },
        "id": "i8snlp8DfvyE",
        "outputId": "87a2c12f-026d-498a-dde6-584695d8a75d"
      },
      "execution_count": null,
      "outputs": [
        {
          "output_type": "execute_result",
          "data": {
            "text/plain": [
              "(80, 17)"
            ]
          },
          "metadata": {},
          "execution_count": 32
        }
      ]
    },
    {
      "cell_type": "code",
      "source": [
        "prod_Electronic_accessories_male=prod_Electronic_accessories[(prod_Electronic_accessories.Gender == 'Male')]\n",
        "prod_Electronic_accessories_male.shape"
      ],
      "metadata": {
        "colab": {
          "base_uri": "https://localhost:8080/"
        },
        "id": "9YVYGYYTfvvi",
        "outputId": "afe936d3-4f3f-4a24-92c4-82c8163e9197"
      },
      "execution_count": null,
      "outputs": [
        {
          "output_type": "execute_result",
          "data": {
            "text/plain": [
              "(85, 17)"
            ]
          },
          "metadata": {},
          "execution_count": 33
        }
      ]
    },
    {
      "cell_type": "code",
      "source": [
        "prod_Home_and_lifestyle_female=prod_Home_and_lifestyle[(prod_Home_and_lifestyle.Gender == 'Female')]\n",
        "prod_Home_and_lifestyle_female.shape"
      ],
      "metadata": {
        "colab": {
          "base_uri": "https://localhost:8080/"
        },
        "id": "snwy8uKFfvsW",
        "outputId": "84a15ad2-6850-440d-e37f-ea9694355e1c"
      },
      "execution_count": null,
      "outputs": [
        {
          "output_type": "execute_result",
          "data": {
            "text/plain": [
              "(73, 17)"
            ]
          },
          "metadata": {},
          "execution_count": 34
        }
      ]
    },
    {
      "cell_type": "code",
      "source": [
        "prod_Home_and_lifestyle_male=prod_Home_and_lifestyle[(prod_Home_and_lifestyle.Gender == 'Male')]\n",
        "prod_Home_and_lifestyle_male.shape"
      ],
      "metadata": {
        "colab": {
          "base_uri": "https://localhost:8080/"
        },
        "id": "MdPOuHBafvol",
        "outputId": "41c90e8c-b5ac-4f25-c77b-260aae2d4ec3"
      },
      "execution_count": null,
      "outputs": [
        {
          "output_type": "execute_result",
          "data": {
            "text/plain": [
              "(78, 17)"
            ]
          },
          "metadata": {},
          "execution_count": 35
        }
      ]
    },
    {
      "cell_type": "code",
      "source": [
        "prod_Sports_and_travel_female=prod_Sports_and_travel[(prod_Sports_and_travel.Gender == 'Female')]\n",
        "prod_Sports_and_travel_female.shape"
      ],
      "metadata": {
        "colab": {
          "base_uri": "https://localhost:8080/"
        },
        "id": "u8MAUOA6fvk-",
        "outputId": "4c77e80a-a01b-479d-f356-e59dfd9003cb"
      },
      "execution_count": null,
      "outputs": [
        {
          "output_type": "execute_result",
          "data": {
            "text/plain": [
              "(87, 17)"
            ]
          },
          "metadata": {},
          "execution_count": 36
        }
      ]
    },
    {
      "cell_type": "code",
      "source": [
        "prod_Sports_and_travel_male=prod_Sports_and_travel[(prod_Sports_and_travel.Gender == 'Male')]\n",
        "prod_Sports_and_travel_male.shape"
      ],
      "metadata": {
        "colab": {
          "base_uri": "https://localhost:8080/"
        },
        "id": "vFGvDocqfvif",
        "outputId": "19e881a0-1baf-4e2e-eddb-0e90f61e028e"
      },
      "execution_count": null,
      "outputs": [
        {
          "output_type": "execute_result",
          "data": {
            "text/plain": [
              "(76, 17)"
            ]
          },
          "metadata": {},
          "execution_count": 37
        }
      ]
    },
    {
      "cell_type": "code",
      "source": [
        "prod_Food_and_beverages_female=prod_Food_and_beverages[(prod_Food_and_beverages.Gender == 'Female')]\n",
        "prod_Food_and_beverages_female.shape"
      ],
      "metadata": {
        "colab": {
          "base_uri": "https://localhost:8080/"
        },
        "id": "fFZQvRjvfvf7",
        "outputId": "a0358a05-8eb0-40f6-d4c5-a33ee020a873"
      },
      "execution_count": null,
      "outputs": [
        {
          "output_type": "execute_result",
          "data": {
            "text/plain": [
              "(85, 17)"
            ]
          },
          "metadata": {},
          "execution_count": 38
        }
      ]
    },
    {
      "cell_type": "code",
      "source": [
        "prod_Food_and_beverages_male=prod_Food_and_beverages[(prod_Food_and_beverages.Gender == 'Male')]\n",
        "prod_Food_and_beverages_male.shape"
      ],
      "metadata": {
        "colab": {
          "base_uri": "https://localhost:8080/"
        },
        "id": "M08AyJiTfvdH",
        "outputId": "03cc7014-9850-403c-8774-6cdd23d36b8a"
      },
      "execution_count": null,
      "outputs": [
        {
          "output_type": "execute_result",
          "data": {
            "text/plain": [
              "(80, 17)"
            ]
          },
          "metadata": {},
          "execution_count": 39
        }
      ]
    },
    {
      "cell_type": "code",
      "source": [
        "prod_Fashion_accessories_female=prod_Fashion_accessories[(prod_Fashion_accessories.Gender == 'Female')]\n",
        "prod_Fashion_accessories_female.shape"
      ],
      "metadata": {
        "colab": {
          "base_uri": "https://localhost:8080/"
        },
        "id": "o4_9vIjfgGZV",
        "outputId": "721b7dd5-2bc7-435b-f1ea-174df0da3ace"
      },
      "execution_count": null,
      "outputs": [
        {
          "output_type": "execute_result",
          "data": {
            "text/plain": [
              "(95, 17)"
            ]
          },
          "metadata": {},
          "execution_count": 40
        }
      ]
    },
    {
      "cell_type": "code",
      "source": [
        "prod_Fashion_accessories_male=prod_Fashion_accessories[(prod_Fashion_accessories.Gender == 'Male')]\n",
        "prod_Fashion_accessories_male.shape"
      ],
      "metadata": {
        "colab": {
          "base_uri": "https://localhost:8080/"
        },
        "id": "vsd-5yEbgGVV",
        "outputId": "a7fa80c7-9f16-48c4-c223-b437f4119007"
      },
      "execution_count": null,
      "outputs": [
        {
          "output_type": "execute_result",
          "data": {
            "text/plain": [
              "(77, 17)"
            ]
          },
          "metadata": {},
          "execution_count": 41
        }
      ]
    },
    {
      "cell_type": "code",
      "source": [
        "Health_and_beauty=[64,88]\n",
        "Electronic_accessories=[84,86]\n",
        "Home_and_lifestyle=[79,81]\n",
        "Sports_and_travel=[88,78]\n",
        "Food_and_beverages=[90,84]\n",
        "Fashion_accessories=[96,82]\n",
        "\n",
        "labels=['Female','Male']\n",
        "\n",
        "\n",
        "x=np.arange(len(labels))\n",
        "width=0.10\n",
        "\n",
        "\n",
        "fig, ax = plt.subplots()\n",
        "\n",
        "\n",
        "rects1 = ax.bar(x - 0.2, Health_and_beauty, width, label='Health and Beauty',edgecolor='black')\n",
        "rects2 = ax.bar(x - 0.1, Electronic_accessories, width, label='Electronic Accessories',edgecolor='black')\n",
        "rects3 = ax.bar(x, Home_and_lifestyle, width, label='Home and Lifestyle',edgecolor='black')\n",
        "rects4 = ax.bar(x + 0.1, Sports_and_travel, width, label='Sports and Travel',edgecolor='black')\n",
        "rects5 = ax.bar(x + 0.2, Food_and_beverages, width, label='Food and Beverages',edgecolor='black')\n",
        "rects6 = ax.bar(x + 0.3, Fashion_accessories, width, label='Fashion Accessories',edgecolor='black')\n",
        "\n",
        "\n",
        "ax.set_ylabel('Invoice',fontdict={'fontname': 'Sans Serif', 'fontsize': 15})\n",
        "ax.set_title('Product wise Customer(Gender)',fontdict={'fontname': 'Sans Serif', 'fontsize': 20})\n",
        "ax.set_xticks(x)\n",
        "ax.set_xticklabels(labels)\n",
        "ax.set_yticks([0,25,50,75,100,125,150,175,190])\n",
        "\n",
        "\n",
        "ax.legend()\n",
        "\n",
        "def autolabel(rects):\n",
        "    \"\"\"Attach a text label above each bar in *rects*, displaying its height.\"\"\"\n",
        "    for rect in rects:\n",
        "        height = rect.get_height()\n",
        "        ax.annotate('{}'.format(height),\n",
        "                    xy=(rect.get_x() + rect.get_width() / 2, height),\n",
        "                    xytext=(0, 3),  # 3 points vertical offset\n",
        "                    textcoords=\"offset points\",\n",
        "                    ha='center', va='bottom')\n",
        "\n",
        "autolabel(rects1)\n",
        "autolabel(rects2)\n",
        "autolabel(rects3)\n",
        "autolabel(rects4)\n",
        "autolabel(rects5)\n",
        "autolabel(rects6)\n",
        "\n",
        "fig.tight_layout()\n",
        "\n",
        "\n",
        "plt.savefig('Product wise cutomers.png', dpi=300)\n",
        "plt.show()"
      ],
      "metadata": {
        "colab": {
          "base_uri": "https://localhost:8080/",
          "height": 297
        },
        "id": "NtIZp7ClgGRz",
        "outputId": "9892c5ee-8874-4c6c-d61f-bd12140caa66"
      },
      "execution_count": null,
      "outputs": [
        {
          "output_type": "display_data",
          "data": {
            "text/plain": [
              "<Figure size 432x288 with 1 Axes>"
            ],
            "image/png": "[encoded data removed]"
          },
          "metadata": {
            "needs_background": "light"
          }
        }
      ]
    },
    {
      "cell_type": "markdown",
      "source": [
        "# ***Branch and Income wise Classification***"
      ],
      "metadata": {
        "id": "fK-UJejwgWBg"
      }
    },
    {
      "cell_type": "code",
      "source": [
        "branch_a.sum()"
      ],
      "metadata": {
        "colab": {
          "base_uri": "https://localhost:8080/"
        },
        "id": "fLvCpYAigGOZ",
        "outputId": "dc2b7548-9c6c-462f-a016-e4dfb790359a"
      },
      "execution_count": null,
      "outputs": [
        {
          "output_type": "stream",
          "name": "stderr",
          "text": [
            "/usr/local/lib/python3.7/dist-packages/ipykernel_launcher.py:1: FutureWarning: Dropping of nuisance columns in DataFrame reductions (with 'numeric_only=None') is deprecated; in a future version this will raise TypeError.  Select only valid columns before calling the reduction.\n",
            "  \"\"\"Entry point for launching an IPython kernel.\n"
          ]
        },
        {
          "output_type": "execute_result",
          "data": {
            "text/plain": [
              "Invoice ID                 750-67-8428631-41-3108123-19-1176373-73-791035...\n",
              "Branch                     AAAAAAAAAAAAAAAAAAAAAAAAAAAAAAAAAAAAAAAAAAAAAA...\n",
              "City                       YangonYangonYangonYangonYangonYangonYangonYang...\n",
              "Gender                     FemaleMaleMaleMaleFemaleFemaleFemaleMaleFemale...\n",
              "Unit price                                                          18623.96\n",
              "Quantity                                                              1846.0\n",
              "Tax 5%                                                             5093.8825\n",
              "Total                                                            106971.5325\n",
              "Date                       1/5/193/3/191/27/192/8/192/25/191/10/192/12/19...\n",
              "Time                       13:0813:2320:3310:3714:3617:1510:2516:4819:211...\n",
              "Payment                    EwalletCredit cardEwalletEwalletEwalletCredit ...\n",
              "cogs                                                               101877.65\n",
              "gross margin percentage                                          1628.571429\n",
              "gross income                                                       5093.8825\n",
              "Rating                                                                2404.6\n",
              "dtype: object"
            ]
          },
          "metadata": {},
          "execution_count": 43
        }
      ]
    },
    {
      "cell_type": "code",
      "source": [
        "branch_b.sum()"
      ],
      "metadata": {
        "colab": {
          "base_uri": "https://localhost:8080/"
        },
        "id": "PANX0d5qgGKw",
        "outputId": "32552c6e-2f87-467b-a4bd-e7d52a61ede8"
      },
      "execution_count": null,
      "outputs": [
        {
          "output_type": "stream",
          "name": "stderr",
          "text": [
            "/usr/local/lib/python3.7/dist-packages/ipykernel_launcher.py:1: FutureWarning: Dropping of nuisance columns in DataFrame reductions (with 'numeric_only=None') is deprecated; in a future version this will raise TypeError.  Select only valid columns before calling the reduction.\n",
            "  \"\"\"Entry point for launching an IPython kernel.\n"
          ]
        },
        {
          "output_type": "execute_result",
          "data": {
            "text/plain": [
              "Invoice ID                 692-92-5582351-62-0822529-56-3974299-46-180531...\n",
              "Branch                     BBBBBBBBBBBBBBBBBBBBBBBBBBBBBBBBBBBBBBBBBBBBBB...\n",
              "City                       MandalayMandalayMandalayMandalayMandalayMandal...\n",
              "Gender                     FemaleFemaleMaleFemaleFemaleMaleMaleMaleFemale...\n",
              "Unit price                                                          18451.09\n",
              "Quantity                                                              1746.0\n",
              "Tax 5%                                                               5087.51\n",
              "Total                                                              106837.71\n",
              "Date                       2/20/192/6/193/9/191/15/193/11/193/5/193/15/19...\n",
              "Time                       13:2718:0717:0316:1915:3010:4012:2015:3119:481...\n",
              "Payment                    Credit cardEwalletCashCashEwalletEwalletCredit...\n",
              "cogs                                                                101750.2\n",
              "gross margin percentage                                          1585.714286\n",
              "gross income                                                         5087.51\n",
              "Rating                                                                2269.1\n",
              "dtype: object"
            ]
          },
          "metadata": {},
          "execution_count": 44
        }
      ]
    },
    {
      "cell_type": "code",
      "source": [
        "branch_c.sum()"
      ],
      "metadata": {
        "colab": {
          "base_uri": "https://localhost:8080/"
        },
        "id": "hBFHQoamgGHE",
        "outputId": "43dc4b64-0a0f-4d23-c5b2-d2883dc67374"
      },
      "execution_count": null,
      "outputs": [
        {
          "output_type": "stream",
          "name": "stderr",
          "text": [
            "/usr/local/lib/python3.7/dist-packages/ipykernel_launcher.py:1: FutureWarning: Dropping of nuisance columns in DataFrame reductions (with 'numeric_only=None') is deprecated; in a future version this will raise TypeError.  Select only valid columns before calling the reduction.\n",
            "  \"\"\"Entry point for launching an IPython kernel.\n"
          ]
        },
        {
          "output_type": "execute_result",
          "data": {
            "text/plain": [
              "Invoice ID                 226-31-3081699-14-3026315-22-5665300-71-460518...\n",
              "Branch                     CCCCCCCCCCCCCCCCCCCCCCCCCCCCCCCCCCCCCCCCCCCCCC...\n",
              "City                       NaypyitawNaypyitawNaypyitawNaypyitawNaypyitawN...\n",
              "Gender                     FemaleMaleFemaleMaleFemaleFemaleFemaleMaleFema...\n",
              "Unit price                                                          18466.46\n",
              "Quantity                                                              1816.0\n",
              "Tax 5%                                                             5265.1765\n",
              "Total                                                            110568.7065\n",
              "Date                       3/8/193/25/192/24/192/25/192/6/191/7/193/23/19...\n",
              "Time                       10:2918:3011:3811:2410:4212:2813:2410:1120:391...\n",
              "Payment                    CashEwalletEwalletEwalletEwalletEwalletEwallet...\n",
              "cogs                                                               105303.53\n",
              "gross margin percentage                                          1561.904762\n",
              "gross income                                                       5265.1765\n",
              "Rating                                                                2319.9\n",
              "dtype: object"
            ]
          },
          "metadata": {},
          "execution_count": 45
        }
      ]
    },
    {
      "cell_type": "code",
      "source": [
        "branch_income=[5057.03,5057.03,5265.18]\n",
        "branch_lebel=['A','B','C']\n",
        "\n",
        "x=np.arange(len(branch_lebel))\n",
        "\n",
        "fig, ax = plt.subplots()\n",
        "\n",
        "rect1=ax.bar(branch_lebel,branch_income,0.50,label='Income in $', color='y', edgecolor='black')\n",
        "\n",
        "ax.set_title('Branch wise Income($)', fontdict={'fontname': 'Sans Serif', 'fontsize': 30})\n",
        "ax.set_xlabel('Branch',fontdict={'fontname': 'Sans Serif', 'fontsize': 15})\n",
        "ax.set_ylabel('Income (in $)',fontdict={'fontname': 'Sans Serif', 'fontsize': 15})\n",
        "ax.set_yticks([0,1000,2000,3000,4000,5000,6000,7000])\n",
        "\n",
        "ax.legend()\n",
        "\n",
        "def autolabel(rects):\n",
        "    \"\"\"Attach a text label above each bar in *rects*, displaying its height.\"\"\"\n",
        "    for rect in rects:\n",
        "        height = rect.get_height()\n",
        "        ax.annotate('{}'.format(height),\n",
        "                    xy=(rect.get_x() + rect.get_width() / 2, height),\n",
        "                    xytext=(0, 3),  # 3 points vertical offset\n",
        "                    textcoords=\"offset points\",\n",
        "                    ha='center', va='bottom')\n",
        "autolabel(rect1)\n",
        "\n",
        "\n",
        "ax=plt.savefig('Branch wise Income.png', dpi=300)\n",
        "plt.show()"
      ],
      "metadata": {
        "colab": {
          "base_uri": "https://localhost:8080/",
          "height": 313
        },
        "id": "MdxFOLcOgGDr",
        "outputId": "58ab10d8-b4dc-4f66-cdd1-b6ef81006d3a"
      },
      "execution_count": null,
      "outputs": [
        {
          "output_type": "display_data",
          "data": {
            "text/plain": [
              "<Figure size 432x288 with 1 Axes>"
            ],
            "image/png": "[encoded data removed]"
          },
          "metadata": {
            "needs_background": "light"
          }
        }
      ]
    },
    {
      "cell_type": "markdown",
      "source": [
        "# ***Branch and Product wise Sales Classification***"
      ],
      "metadata": {
        "id": "WUHamz9ogg8s"
      }
    },
    {
      "cell_type": "code",
      "source": [
        "branch_a_Health_and_beauty=branch_a[(branch_a['Product line'] == 'Health and beauty')]\n",
        "branch_a_Health_and_beauty.shape"
      ],
      "metadata": {
        "colab": {
          "base_uri": "https://localhost:8080/"
        },
        "id": "qY49aaxFgGAn",
        "outputId": "92b7460f-734d-4dd2-dc34-3e2b8ec42b01"
      },
      "execution_count": null,
      "outputs": [
        {
          "output_type": "execute_result",
          "data": {
            "text/plain": [
              "(46, 17)"
            ]
          },
          "metadata": {},
          "execution_count": 47
        }
      ]
    },
    {
      "cell_type": "code",
      "source": [
        "branch_a_Electronic_accessories=branch_a[(branch_a['Product line'] == 'Electronic accessories')]\n",
        "branch_a_Electronic_accessories.shape"
      ],
      "metadata": {
        "colab": {
          "base_uri": "https://localhost:8080/"
        },
        "id": "CgDB6nv2gF8n",
        "outputId": "a57a51e4-a362-43d4-ca57-592444c02a19"
      },
      "execution_count": null,
      "outputs": [
        {
          "output_type": "execute_result",
          "data": {
            "text/plain": [
              "(57, 17)"
            ]
          },
          "metadata": {},
          "execution_count": 48
        }
      ]
    },
    {
      "cell_type": "code",
      "source": [
        "branch_a_Home_and_lifestyle=branch_a[(branch_a['Product line'] == 'Home and lifestyle')]\n",
        "branch_a_Home_and_lifestyle.shape\n",
        "branch_a_Sports_and_travel=branch_a[(branch_a['Product line'] == 'Sports and travel')]\n",
        "branch_a_Sports_and_travel.shape\n"
      ],
      "metadata": {
        "colab": {
          "base_uri": "https://localhost:8080/"
        },
        "id": "GrRFdwgCgF3-",
        "outputId": "ef659195-f6ef-4830-92f4-ef060621a60e"
      },
      "execution_count": null,
      "outputs": [
        {
          "output_type": "execute_result",
          "data": {
            "text/plain": [
              "(58, 17)"
            ]
          },
          "metadata": {},
          "execution_count": 49
        }
      ]
    },
    {
      "cell_type": "code",
      "source": [
        "branch_a_Food_and_beverages=branch_a[(branch_a['Product line'] == 'Food and beverages')]\n",
        "branch_a_Food_and_beverages.shape\n",
        "branch_a_Fashion_accessories=branch_a[(branch_a['Product line'] == 'Fashion accessories')]\n",
        "branch_a_Fashion_accessories.shape\n",
        "branch_a_product=[47,60,65,59,58,51]\n",
        "labels=['Health and beauty','Electronic accessories','Home and lifestyle','Sports and travel','Food and beverages',\n",
        "       'Fashion accessories']\n",
        "\n",
        "plt.pie(branch_a_product,labels=labels,startangle=90,autopct='%.2f %%')\n",
        "plt.title('Branch A Product Sales', fontdict={'fontname': 'Sans Serif', 'fontsize': 15})\n",
        "plt.axis('equal')\n",
        "\n",
        "plt.savefig('Branch A Product Sales.png', dpi=300)\n",
        "plt.show()"
      ],
      "metadata": {
        "colab": {
          "base_uri": "https://localhost:8080/",
          "height": 266
        },
        "id": "5O0Dau2CgFz_",
        "outputId": "71a1853e-ae04-489a-86d0-69e2f8bcf630"
      },
      "execution_count": null,
      "outputs": [
        {
          "output_type": "display_data",
          "data": {
            "text/plain": [
              "<Figure size 432x288 with 1 Axes>"
            ],
            "image/png": "[encoded data removed]"
          },
          "metadata": {}
        }
      ]
    },
    {
      "cell_type": "code",
      "source": [
        "branch_b_Health_and_beauty=branch_b[(branch_b['Product line'] == 'Health and beauty')]\n",
        "branch_b_Health_and_beauty.shape\n",
        "branch_b_Electronic_accessories=branch_b[(branch_b['Product line'] == 'Electronic accessories')]\n",
        "branch_b_Electronic_accessories.shape\n",
        "branch_b_Home_and_lifestyle=branch_b[(branch_b['Product line'] == 'Home and lifestyle')]\n",
        "branch_b_Home_and_lifestyle.shape\n",
        "branch_b_Sports_and_travel=branch_b[(branch_b['Product line'] == 'Sports and travel')]\n",
        "branch_b_Sports_and_travel.shape\n",
        "branch_b_Food_and_beverages=branch_b[(branch_b['Product line'] == 'Food and beverages')]\n",
        "branch_b_Food_and_beverages.shape\n",
        "branch_b_Fashion_accessories=branch_b[(branch_b['Product line'] == 'Fashion accessories')]\n",
        "branch_b_Fashion_accessories.shape\n",
        "branch_a_product=[53,55,50,62,50,62]\n",
        "labels=['Health and beauty','Electronic accessories','Home and lifestyle','Sports and travel','Food and beverages',\n",
        "       'Fashion accessories']\n",
        "\n",
        "plt.pie(branch_a_product,labels=labels,startangle=90,autopct='%.2f %%')\n",
        "plt.title('Branch B Product Sales', fontdict={'fontname': 'Sans Serif', 'fontsize': 20})\n",
        "plt.axis('equal')\n",
        "\n",
        "plt.savefig('Branch B Product Sales.png', dpi=300)\n",
        "plt.show()"
      ],
      "metadata": {
        "colab": {
          "base_uri": "https://localhost:8080/",
          "height": 269
        },
        "id": "vHQRp5p7gFw2",
        "outputId": "75e5e970-7665-4a51-b15a-f20ce73fb3a4"
      },
      "execution_count": null,
      "outputs": [
        {
          "output_type": "display_data",
          "data": {
            "text/plain": [
              "<Figure size 432x288 with 1 Axes>"
            ],
            "image/png": "[encoded data removed]"
          },
          "metadata": {}
        }
      ]
    },
    {
      "cell_type": "code",
      "source": [
        "branch_c_Health_and_beauty=branch_c[(branch_c['Product line'] == 'Health and beauty')]\n",
        "branch_c_Health_and_beauty.shape\n",
        "branch_c_Electronic_accessories=branch_c[(branch_c['Product line'] == 'Electronic accessories')]\n",
        "branch_c_Electronic_accessories.shape\n",
        "branch_c_Home_and_lifestyle=branch_c[(branch_c['Product line'] == 'Home and lifestyle')]\n",
        "branch_c_Home_and_lifestyle.shape\n",
        "branch_c_Sports_and_travel=branch_c[(branch_c['Product line'] == 'Sports and travel')]\n",
        "branch_c_Sports_and_travel.shape\n",
        "branch_c_Food_and_beverages=branch_c[(branch_c['Product line'] == 'Food and beverages')]\n",
        "branch_c_Food_and_beverages.shape\n",
        "branch_c_Fashion_accessories=branch_c[(branch_c['Product line'] == 'Fashion accessories')]\n",
        "branch_c_Fashion_accessories.shape\n",
        "branch_a_product=[52,55,45,45,66,65]\n",
        "labels=['Health and beauty','Electronic accessories','Home and lifestyle','Sports and travel','Food and beverages',\n",
        "       'Fashion accessories']\n",
        "\n",
        "plt.pie(branch_a_product,labels=labels,startangle=90,autopct='%.2f %%')\n",
        "plt.title('Branch C Product Sales', fontdict={'fontname': 'Sans Serif', 'fontsize': 20})\n",
        "plt.axis('equal')\n",
        "\n",
        "plt.savefig('Branch C Product Sales.png', dpi=300)\n",
        "plt.show()"
      ],
      "metadata": {
        "colab": {
          "base_uri": "https://localhost:8080/",
          "height": 271
        },
        "id": "wAvFELJQgFty",
        "outputId": "3d38f111-5f14-4fbe-b5b8-6c4066c5c0eb"
      },
      "execution_count": null,
      "outputs": [
        {
          "output_type": "display_data",
          "data": {
            "text/plain": [
              "<Figure size 432x288 with 1 Axes>"
            ],
            "image/png": "[encoded data removed]"
          },
          "metadata": {}
        }
      ]
    },
    {
      "cell_type": "markdown",
      "source": [
        "# ***Branch and Payment Classification***"
      ],
      "metadata": {
        "id": "2HzirbLWhNTO"
      }
    },
    {
      "cell_type": "code",
      "source": [
        "branch_a_cash=branch_a[(branch_a['Payment'] == 'Cash')]\n",
        "branch_a_cash.shape\n",
        "branch_a_ewallet=branch_a[(branch_a['Payment'] == 'Ewallet')]\n",
        "branch_a_ewallet.shape\n",
        "branch_a_cc=branch_a[(branch_a['Payment'] == 'Credit card')]\n",
        "branch_a_cc.shape\n",
        "branch_b_cash=branch_b[(branch_b['Payment'] == 'Cash')]\n",
        "branch_b_cash.shape\n",
        "branch_b_ewallet=branch_b[(branch_b['Payment'] == 'Ewallet')]\n",
        "branch_b_ewallet.shape\n",
        "branch_b_cc=branch_b[(branch_b['Payment'] == 'Credit card')]\n",
        "branch_b_cc.shape\n",
        "branch_c_cash=branch_c[(branch_c['Payment'] == 'Cash')]\n",
        "branch_c_cash.shape\n",
        "branch_c_ewallet=branch_c[(branch_c['Payment'] == 'Ewallet')]\n",
        "branch_c_ewallet.shape\n",
        "branch_c_cc=branch_c[(branch_c['Payment'] == 'Credit card')]\n",
        "branch_c_cc.shape\n",
        "pay_cash=[110,110,124]\n",
        "pay_ewallet=[126,113,106]\n",
        "pay_cc=[104,109,98]\n",
        "\n",
        "\n",
        "labels=['A','B','C']\n",
        "\n",
        "\n",
        "x=np.arange(len(labels))\n",
        "width=0.20\n",
        "\n",
        "\n",
        "fig, ax = plt.subplots()\n",
        "\n",
        "\n",
        "rects1 = ax.bar(x - 0.20, pay_cash, width, label='Cash',edgecolor='black')\n",
        "rects2 = ax.bar(x, pay_ewallet, width, label='E-Wallet',edgecolor='black')\n",
        "rects3 = ax.bar(x + 0.20, pay_cc, width, label='Credit Card',edgecolor='black')\n",
        "\n",
        "\n",
        "\n",
        "ax.set_ylabel('Invoice',fontdict={'fontname': 'Sans Serif', 'fontsize': 15})\n",
        "ax.set_xlabel('Branch',fontdict={'fontname': 'Sans Serif', 'fontsize': 15})\n",
        "ax.set_title('Branch wise Payment Type',fontdict={'fontname': 'Sans Serif', 'fontsize': 20})\n",
        "ax.set_xticks(x)\n",
        "ax.set_xticklabels(labels)\n",
        "ax.set_yticks([0,20,40,60,80,100,120,140,160,180])\n",
        "\n",
        "\n",
        "ax.legend()\n",
        "\n",
        "def autolabel(rects):\n",
        "    \"\"\"Attach a text label above each bar in *rects*, displaying its height.\"\"\"\n",
        "    for rect in rects:\n",
        "        height = rect.get_height()\n",
        "        ax.annotate('{}'.format(height),\n",
        "                    xy=(rect.get_x() + rect.get_width() / 2, height),\n",
        "                    xytext=(0, 3),  # 3 points vertical offset\n",
        "                    textcoords=\"offset points\",\n",
        "                    ha='center', va='bottom')\n",
        "\n",
        "autolabel(rects1)\n",
        "autolabel(rects2)\n",
        "autolabel(rects3)\n",
        "\n",
        "\n",
        "fig.tight_layout()\n",
        "\n",
        "\n",
        "plt.savefig('Branch wise Payment Type.png', dpi=300)\n",
        "plt.show()"
      ],
      "metadata": {
        "colab": {
          "base_uri": "https://localhost:8080/",
          "height": 297
        },
        "id": "29Wl_uF7gFqy",
        "outputId": "d844a53c-e231-4878-d9cb-95ab8a86a0c6"
      },
      "execution_count": null,
      "outputs": [
        {
          "output_type": "display_data",
          "data": {
            "text/plain": [
              "<Figure size 432x288 with 1 Axes>"
            ],
            "image/png": "[encoded data removed]"
          },
          "metadata": {
            "needs_background": "light"
          }
        }
      ]
    },
    {
      "cell_type": "markdown",
      "source": [
        "# ***Customer(Type) and Product wise Classification***"
      ],
      "metadata": {
        "id": "cXPXVXGNhoEP"
      }
    },
    {
      "cell_type": "code",
      "source": [
        "cus_member_helth_and_beauty=cus_member[(cus_member['Product line'] == 'Health and beauty')]\n",
        "cus_member_helth_and_beauty.shape\n",
        "cus_normal_helth_and_beauty=cus_normal[(cus_normal['Product line'] == 'Health and beauty')]\n",
        "cus_normal_helth_and_beauty.shape\n",
        "cus_member_Electronic_accessories=cus_member[(cus_member['Product line'] == 'Electronic accessories')]\n",
        "cus_member_Electronic_accessories.shape\n",
        "cus_normal_Electronic_accessories=cus_normal[(cus_normal['Product line'] == 'Electronic accessories')]\n",
        "cus_normal_Electronic_accessories.shape\n",
        "cus_member_Home_and_lifestyle=cus_member[(cus_member['Product line'] == 'Home and lifestyle')]\n",
        "cus_member_Home_and_lifestyle.shape\n",
        "cus_normal_Home_and_lifestyle=cus_normal[(cus_normal['Product line'] == 'Home and lifestyle')]\n",
        "cus_normal_Home_and_lifestyle.shape\n",
        "cus_member_Sports_and_travel=cus_member[(cus_member['Product line'] == 'Sports and travel')]\n",
        "cus_member_Sports_and_travel.shape\n",
        "cus_normal_Sports_and_travel=cus_normal[(cus_normal['Product line'] == 'Sports and travel')]\n",
        "cus_normal_Sports_and_travel.shape\n",
        "cus_member_Food_and_beverages=cus_member[(cus_member['Product line'] == 'Food and beverages')]\n",
        "cus_member_Food_and_beverages.shape\n",
        "cus_normal_Food_and_beverages=cus_normal[(cus_normal['Product line'] == 'Food and beverages')]\n",
        "cus_normal_Food_and_beverages.shape\n",
        "cus_member_Fashion_accessories=cus_member[(cus_member['Product line'] == 'Fashion accessories')]\n",
        "cus_member_Fashion_accessories.shape\n",
        "cus_normal_Fashion_accessories=cus_normal[(cus_normal['Product line'] == 'Fashion accessories')]\n",
        "cus_normal_Fashion_accessories.shape\n",
        "Health_and_beauty=[73,79]\n",
        "Electronic_accessories=[78,92]\n",
        "Home_and_lifestyle=[83,77]\n",
        "Sports_and_travel=[87,79]\n",
        "Food_and_beverages=[94,80]\n",
        "Fashion_accessories=[86,92]\n",
        "\n",
        "labels=['Member','Normal']\n",
        "\n",
        "\n",
        "x=np.arange(len(labels))\n",
        "width=0.10\n",
        "\n",
        "\n",
        "fig, ax = plt.subplots()\n",
        "\n",
        "\n",
        "rects1 = ax.bar(x - 0.2, Health_and_beauty, width, label='Health and Beauty',edgecolor='black')\n",
        "rects2 = ax.bar(x - 0.1, Electronic_accessories, width, label='Electronic Accessories',edgecolor='black')\n",
        "rects3 = ax.bar(x, Home_and_lifestyle, width, label='Home and Lifestyle',edgecolor='black')\n",
        "rects4 = ax.bar(x + 0.1, Sports_and_travel, width, label='Sports and Travel',edgecolor='black')\n",
        "rects5 = ax.bar(x + 0.2, Food_and_beverages, width, label='Food and Beverages',edgecolor='black')\n",
        "rects6 = ax.bar(x + 0.3, Fashion_accessories, width, label='Fashion Accessories',edgecolor='black')\n",
        "\n",
        "\n",
        "ax.set_ylabel('Invoice',fontdict={'fontname': 'Sans Serif', 'fontsize': 15})\n",
        "ax.set_xlabel('Customer',fontdict={'fontname': 'Sans Serif', 'fontsize': 15})\n",
        "ax.set_title('Product wise Customer(Gender)',fontdict={'fontname': 'Sans Serif', 'fontsize': 20})\n",
        "ax.set_xticks(x)\n",
        "ax.set_xticklabels(labels)\n",
        "ax.set_yticks([0,20,40,60,80,100,120])\n",
        "\n",
        "\n",
        "ax.legend()\n",
        "\n",
        "def autolabel(rects):\n",
        "    \"\"\"Attach a text label above each bar in *rects*, displaying its height.\"\"\"\n",
        "    for rect in rects:\n",
        "        height = rect.get_height()\n",
        "        ax.annotate('{}'.format(height),\n",
        "                    xy=(rect.get_x() + rect.get_width() / 2, height),\n",
        "                    xytext=(0, 3),  # 3 points vertical offset\n",
        "                    textcoords=\"offset points\",\n",
        "                    ha='center', va='bottom')\n",
        "\n",
        "autolabel(rects1)\n",
        "autolabel(rects2)\n",
        "autolabel(rects3)\n",
        "autolabel(rects4)\n",
        "autolabel(rects5)\n",
        "autolabel(rects6)\n",
        "\n",
        "fig.tight_layout()\n",
        "\n",
        "\n",
        "plt.savefig('Customer(Type) and Product.png', dpi=300)\n",
        "plt.show()"
      ],
      "metadata": {
        "colab": {
          "base_uri": "https://localhost:8080/",
          "height": 297
        },
        "id": "hHvTMwc2gFny",
        "outputId": "702eb1bd-8b9e-449f-c6e1-2d627ab8328c"
      },
      "execution_count": null,
      "outputs": [
        {
          "output_type": "display_data",
          "data": {
            "text/plain": [
              "<Figure size 432x288 with 1 Axes>"
            ],
            "image/png": "[encoded data removed]"
          },
          "metadata": {
            "needs_background": "light"
          }
        }
      ]
    },
    {
      "cell_type": "markdown",
      "source": [
        "# ***Customer and Payment wise Classification***"
      ],
      "metadata": {
        "id": "o0FNaLI0h-mU"
      }
    },
    {
      "cell_type": "code",
      "source": [
        "cus_member_payment_cash=payment_cash[(payment_cash['Customer type'] == 'Member')]\n",
        "cus_member_payment_cash.shape\n",
        "cus_normal_payment_cash=payment_cash[(payment_cash['Customer type'] == 'Normal')]\n",
        "cus_normal_payment_cash.shape\n",
        "cus_member_payment_ewallet=payment_ewallet[(payment_ewallet['Customer type'] == 'Member')]\n",
        "cus_member_payment_ewallet.shape\n",
        "cus_normal_payment_ewallet=payment_ewallet[(payment_ewallet['Customer type'] == 'Normal')]\n",
        "cus_normal_payment_ewallet.shape\n",
        "cus_member_payment_cc=payment_cc[(payment_cc['Customer type'] == 'Member')]\n",
        "cus_member_payment_cc.shape\n",
        "cus_normal_payment_cc=payment_cc[(payment_cc['Customer type'] == 'Normal')]\n",
        "cus_normal_payment_cc.shape\n",
        "cus_pay_cash=[168,176]\n",
        "cus_pay_ewallet=[161,184]\n",
        "cus_pay_cc=[172,139]\n",
        "\n",
        "\n",
        "labels=['Membar','Normal']\n",
        "\n",
        "\n",
        "x=np.arange(len(labels))\n",
        "width=0.20\n",
        "\n",
        "\n",
        "fig, ax = plt.subplots()\n",
        "\n",
        "\n",
        "rects1 = ax.bar(x - 0.20, cus_pay_cash, width, label='Cash',edgecolor='black')\n",
        "rects2 = ax.bar(x, cus_pay_ewallet, width, label='E-Wallet',edgecolor='black')\n",
        "rects3 = ax.bar(x + 0.20, cus_pay_cc, width, label='Credit Card',edgecolor='black')\n",
        "\n",
        "\n",
        "\n",
        "ax.set_ylabel('Invoice',fontdict={'fontname': 'Sans Serif', 'fontsize': 15})\n",
        "ax.set_xlabel('Customer',fontdict={'fontname': 'Sans Serif', 'fontsize': 15})\n",
        "ax.set_title('Customer wise Payment Method',fontdict={'fontname': 'Sans Serif', 'fontsize': 20})\n",
        "ax.set_xticks(x)\n",
        "ax.set_xticklabels(labels)\n",
        "ax.set_yticks([0,25,50,75,100,125,150,175,200,225,250,275])\n",
        "\n",
        "\n",
        "ax.legend()\n",
        "\n",
        "def autolabel(rects):\n",
        "    \"\"\"Attach a text label above each bar in *rects*, displaying its height.\"\"\"\n",
        "    for rect in rects:\n",
        "        height = rect.get_height()\n",
        "        ax.annotate('{}'.format(height),\n",
        "                    xy=(rect.get_x() + rect.get_width() / 2, height),\n",
        "                    xytext=(0, 3),  # 3 points vertical offset\n",
        "                    textcoords=\"offset points\",\n",
        "                    ha='center', va='bottom')\n",
        "\n",
        "autolabel(rects1)\n",
        "autolabel(rects2)\n",
        "autolabel(rects3)\n",
        "\n",
        "\n",
        "fig.tight_layout()\n",
        "\n",
        "\n",
        "plt.savefig('Customer wise Payment Method.png', dpi=300)\n",
        "plt.show()"
      ],
      "metadata": {
        "colab": {
          "base_uri": "https://localhost:8080/",
          "height": 297
        },
        "id": "hXET5CAFgFkr",
        "outputId": "eb7919a3-2527-451a-d030-0c1bc832e8f7"
      },
      "execution_count": null,
      "outputs": [
        {
          "output_type": "display_data",
          "data": {
            "text/plain": [
              "<Figure size 432x288 with 1 Axes>"
            ],
            "image/png": "[encoded data removed]"
          },
          "metadata": {
            "needs_background": "light"
          }
        }
      ]
    },
    {
      "cell_type": "markdown",
      "source": [
        "# ***Product and Income wise Classification***"
      ],
      "metadata": {
        "id": "bcnzzR0ciP7j"
      }
    },
    {
      "cell_type": "code",
      "source": [
        "prod_Fashion_accessories.sum()"
      ],
      "metadata": {
        "colab": {
          "base_uri": "https://localhost:8080/"
        },
        "id": "gJ4Wl-epgFhf",
        "outputId": "b67923c8-d48e-4041-bf58-204640ab6096"
      },
      "execution_count": null,
      "outputs": [
        {
          "output_type": "stream",
          "name": "stderr",
          "text": [
            "/usr/local/lib/python3.7/dist-packages/ipykernel_launcher.py:1: FutureWarning: Dropping of nuisance columns in DataFrame reductions (with 'numeric_only=None') is deprecated; in a future version this will raise TypeError.  Select only valid columns before calling the reduction.\n",
            "  \"\"\"Entry point for launching an IPython kernel.\n"
          ]
        },
        {
          "output_type": "execute_result",
          "data": {
            "text/plain": [
              "Invoice ID                 351-62-0822649-29-6775189-17-4241871-79-848357...\n",
              "Branch                     BBABCBCBCCACCCCBCBBBCBCABAACCBBCBBCCBCBBCCACAA...\n",
              "City                       MandalayMandalayYangonMandalayNaypyitawMandala...\n",
              "Gender                     FemaleMaleFemaleMaleFemaleFemaleMaleFemaleMale...\n",
              "Product line               Fashion accessoriesFashion accessoriesFashion ...\n",
              "Unit price                                                            9735.0\n",
              "Quantity                                                               872.0\n",
              "Tax 5%                                                              2556.317\n",
              "Total                                                              53682.657\n",
              "Date                       2/6/192/8/193/10/192/25/193/19/193/22/191/25/1...\n",
              "Time                       18:0715:3112:1719:3917:0814:4215:4615:0116:191...\n",
              "Payment                    EwalletCashCredit cardCredit cardEwalletEwalle...\n",
              "cogs                                                                51126.34\n",
              "gross margin percentage                                           819.047619\n",
              "gross income                                                        2556.317\n",
              "Rating                                                                1218.8\n",
              "dtype: object"
            ]
          },
          "metadata": {},
          "execution_count": 56
        }
      ]
    },
    {
      "cell_type": "code",
      "source": [
        "product_wise_income=[2342.56,2587.50,2564.85,2624.90,2673.56,2585.99]\n",
        "product_lebel=['Health and Beauty','Electronic Accessories','Home and Lifestyle','Sports and Travel','Food and Beverages',\n",
        "              'Fashion Accessories']\n",
        "\n",
        "x=np.arange(len(product_lebel))\n",
        "\n",
        "fig, ax = plt.subplots()\n",
        "\n",
        "rect1=ax.bar(product_lebel,product_wise_income,0.50,label='Income in $', color='y', edgecolor='black')\n",
        "\n",
        "ax.set_title('Product wise Income ($)', fontdict={'fontname': 'Sans Serif', 'fontsize': 30})\n",
        "ax.set_xlabel('Product',fontdict={'fontname': 'Sans Serif', 'fontsize': 15})\n",
        "ax.set_ylabel('Income (in $)',fontdict={'fontname': 'Sans Serif', 'fontsize': 15})\n",
        "ax.set_yticks([0,1000,2000,3000,3500])\n",
        "plt.xticks(x,product_lebel, rotation=45)\n",
        "\n",
        "ax.legend()\n",
        "\n",
        "def autolabel(rects):\n",
        "    \"\"\"Attach a text label above each bar in *rects*, displaying its height.\"\"\"\n",
        "    for rect in rects:\n",
        "        height = rect.get_height()\n",
        "        ax.annotate('{}'.format(height),\n",
        "                    xy=(rect.get_x() + rect.get_width() / 2, height),\n",
        "                    xytext=(0, 3),  # 3 points vertical offset\n",
        "                    textcoords=\"offset points\",\n",
        "                    ha='center', va='bottom')\n",
        "autolabel(rect1)\n",
        "\n",
        "\n",
        "ax=plt.savefig('Product wise Income.png', dpi=300)\n",
        "plt.show()"
      ],
      "metadata": {
        "colab": {
          "base_uri": "https://localhost:8080/",
          "height": 389
        },
        "id": "B-okPdRmgFeh",
        "outputId": "df37f063-7b7f-4b6f-829a-ab0047e1f5b4"
      },
      "execution_count": null,
      "outputs": [
        {
          "output_type": "display_data",
          "data": {
            "text/plain": [
              "<Figure size 432x288 with 1 Axes>"
            ],
            "image/png": "[encoded data removed]"
          },
          "metadata": {
            "needs_background": "light"
          }
        }
      ]
    },
    {
      "cell_type": "markdown",
      "source": [
        "# ***Branch wise Revenue Classification***"
      ],
      "metadata": {
        "id": "aD0UTrwciZsQ"
      }
    },
    {
      "cell_type": "code",
      "source": [
        "branch_a.sum()"
      ],
      "metadata": {
        "colab": {
          "base_uri": "https://localhost:8080/"
        },
        "id": "DHICL1lEgFbv",
        "outputId": "67605d7e-631e-43d2-fb39-cc4bb4344281"
      },
      "execution_count": null,
      "outputs": [
        {
          "output_type": "stream",
          "name": "stderr",
          "text": [
            "/usr/local/lib/python3.7/dist-packages/ipykernel_launcher.py:1: FutureWarning: Dropping of nuisance columns in DataFrame reductions (with 'numeric_only=None') is deprecated; in a future version this will raise TypeError.  Select only valid columns before calling the reduction.\n",
            "  \"\"\"Entry point for launching an IPython kernel.\n"
          ]
        },
        {
          "output_type": "execute_result",
          "data": {
            "text/plain": [
              "Invoice ID                 750-67-8428631-41-3108123-19-1176373-73-791035...\n",
              "Branch                     AAAAAAAAAAAAAAAAAAAAAAAAAAAAAAAAAAAAAAAAAAAAAA...\n",
              "City                       YangonYangonYangonYangonYangonYangonYangonYang...\n",
              "Gender                     FemaleMaleMaleMaleFemaleFemaleFemaleMaleFemale...\n",
              "Unit price                                                          18623.96\n",
              "Quantity                                                              1846.0\n",
              "Tax 5%                                                             5093.8825\n",
              "Total                                                            106971.5325\n",
              "Date                       1/5/193/3/191/27/192/8/192/25/191/10/192/12/19...\n",
              "Time                       13:0813:2320:3310:3714:3617:1510:2516:4819:211...\n",
              "Payment                    EwalletCredit cardEwalletEwalletEwalletCredit ...\n",
              "cogs                                                               101877.65\n",
              "gross margin percentage                                          1628.571429\n",
              "gross income                                                       5093.8825\n",
              "Rating                                                                2404.6\n",
              "dtype: object"
            ]
          },
          "metadata": {},
          "execution_count": 58
        }
      ]
    },
    {
      "cell_type": "code",
      "source": [
        "branch_b.sum()"
      ],
      "metadata": {
        "colab": {
          "base_uri": "https://localhost:8080/"
        },
        "id": "k7ZBQ7NygFYx",
        "outputId": "9f3f4abd-6e68-4514-dce3-090555948611"
      },
      "execution_count": null,
      "outputs": [
        {
          "output_type": "stream",
          "name": "stderr",
          "text": [
            "/usr/local/lib/python3.7/dist-packages/ipykernel_launcher.py:1: FutureWarning: Dropping of nuisance columns in DataFrame reductions (with 'numeric_only=None') is deprecated; in a future version this will raise TypeError.  Select only valid columns before calling the reduction.\n",
            "  \"\"\"Entry point for launching an IPython kernel.\n"
          ]
        },
        {
          "output_type": "execute_result",
          "data": {
            "text/plain": [
              "Invoice ID                 692-92-5582351-62-0822529-56-3974299-46-180531...\n",
              "Branch                     BBBBBBBBBBBBBBBBBBBBBBBBBBBBBBBBBBBBBBBBBBBBBB...\n",
              "City                       MandalayMandalayMandalayMandalayMandalayMandal...\n",
              "Gender                     FemaleFemaleMaleFemaleFemaleMaleMaleMaleFemale...\n",
              "Unit price                                                          18451.09\n",
              "Quantity                                                              1746.0\n",
              "Tax 5%                                                               5087.51\n",
              "Total                                                              106837.71\n",
              "Date                       2/20/192/6/193/9/191/15/193/11/193/5/193/15/19...\n",
              "Time                       13:2718:0717:0316:1915:3010:4012:2015:3119:481...\n",
              "Payment                    Credit cardEwalletCashCashEwalletEwalletCredit...\n",
              "cogs                                                                101750.2\n",
              "gross margin percentage                                          1585.714286\n",
              "gross income                                                         5087.51\n",
              "Rating                                                                2269.1\n",
              "dtype: object"
            ]
          },
          "metadata": {},
          "execution_count": 59
        }
      ]
    },
    {
      "cell_type": "code",
      "source": [
        "branch_c.sum()"
      ],
      "metadata": {
        "colab": {
          "base_uri": "https://localhost:8080/"
        },
        "id": "eQXYsCD3gFVu",
        "outputId": "9835c87d-3dcf-4e42-928d-df4d2c80925c"
      },
      "execution_count": null,
      "outputs": [
        {
          "output_type": "stream",
          "name": "stderr",
          "text": [
            "/usr/local/lib/python3.7/dist-packages/ipykernel_launcher.py:1: FutureWarning: Dropping of nuisance columns in DataFrame reductions (with 'numeric_only=None') is deprecated; in a future version this will raise TypeError.  Select only valid columns before calling the reduction.\n",
            "  \"\"\"Entry point for launching an IPython kernel.\n"
          ]
        },
        {
          "output_type": "execute_result",
          "data": {
            "text/plain": [
              "Invoice ID                 226-31-3081699-14-3026315-22-5665300-71-460518...\n",
              "Branch                     CCCCCCCCCCCCCCCCCCCCCCCCCCCCCCCCCCCCCCCCCCCCCC...\n",
              "City                       NaypyitawNaypyitawNaypyitawNaypyitawNaypyitawN...\n",
              "Gender                     FemaleMaleFemaleMaleFemaleFemaleFemaleMaleFema...\n",
              "Unit price                                                          18466.46\n",
              "Quantity                                                              1816.0\n",
              "Tax 5%                                                             5265.1765\n",
              "Total                                                            110568.7065\n",
              "Date                       3/8/193/25/192/24/192/25/192/6/191/7/193/23/19...\n",
              "Time                       10:2918:3011:3811:2410:4212:2813:2410:1120:391...\n",
              "Payment                    CashEwalletEwalletEwalletEwalletEwalletEwallet...\n",
              "cogs                                                               105303.53\n",
              "gross margin percentage                                          1561.904762\n",
              "gross income                                                       5265.1765\n",
              "Rating                                                                2319.9\n",
              "dtype: object"
            ]
          },
          "metadata": {},
          "execution_count": 60
        }
      ]
    },
    {
      "cell_type": "code",
      "source": [
        "branch_wise_total_revenue=[106200,106198,110569]\n",
        "branch_lebel=['A','B','C']\n",
        "\n",
        "x=np.arange(len(branch_lebel))\n",
        "\n",
        "fig, ax = plt.subplots()\n",
        "\n",
        "rect1=ax.bar(branch_lebel,branch_wise_total_revenue,0.30,label='Income in $', color='g', edgecolor='black')\n",
        "\n",
        "ax.set_title('Branch wise Revenue ($)', fontdict={'fontname': 'Sans Serif', 'fontsize': 20})\n",
        "ax.set_xlabel('Branch',fontdict={'fontname': 'Sans Serif', 'fontsize': 15})\n",
        "ax.set_ylabel('Revenue (in $)',fontdict={'fontname': 'Sans Serif', 'fontsize': 15})\n",
        "ax.set_yticks([0,20000,40000,60000,80000,100000,120000,140000])\n",
        "plt.xticks(x,branch_lebel)\n",
        "\n",
        "ax.legend()\n",
        "\n",
        "def autolabel(rects):\n",
        "    \"\"\"Attach a text label above each bar in *rects*, displaying its height.\"\"\"\n",
        "    for rect in rects:\n",
        "        height = rect.get_height()\n",
        "        ax.annotate('({})'.format(height),\n",
        "                    xy=(rect.get_x() + rect.get_width() / 2, height),\n",
        "                    xytext=(0, 3),  # 3 points vertical offset\n",
        "                    textcoords=\"offset points\",\n",
        "                    ha='center', va='bottom')\n",
        "autolabel(rect1)\n",
        "\n",
        "\n",
        "ax=plt.savefig('Branch wise Revenue.png', dpi=300)\n",
        "plt.show()"
      ],
      "metadata": {
        "colab": {
          "base_uri": "https://localhost:8080/",
          "height": 305
        },
        "id": "1X-pGacFgFSm",
        "outputId": "5e52ef2d-0600-422f-a2c5-3273921a2135"
      },
      "execution_count": null,
      "outputs": [
        {
          "output_type": "display_data",
          "data": {
            "text/plain": [
              "<Figure size 432x288 with 1 Axes>"
            ],
            "image/png": "[encoded data removed]"
          },
          "metadata": {
            "needs_background": "light"
          }
        }
      ]
    }
  ]
}